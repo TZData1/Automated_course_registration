{
 "cells": [
  {
   "cell_type": "markdown",
   "metadata": {},
   "source": [
    "# Automated registration process with Selenium\n",
    "\n",
    "Due to the fact that the registration process for courses at my university is similar to gambling in a casino and also quite stressful, I wanted to automate the process, in order to increase my success rate and be a little more relaxed during registration periods. I have already heard of other students programming a <b> bot</b>, so I am not the creator of this idea, but nevertheless wanted to create one on my own.\n",
    "\n",
    "### Approach\n",
    "The initial idea was to automate the whole process, meaning <b> logging into the registration system </b>, <b> selecting the right course using the course name of the course overview </b> and finally <b> register for the course using the course number</b>. As easy as it sounds, it hides its difficulties.\n",
    "\n",
    "### Procedure\n",
    "There are many useful tutorials out there, explaining the basics of web automation using selenium. In order to make selenium work, you have to download a web driver file, which is used by selenium to start the browser and execute programmed commands. You can find the web driver on the following page: \n",
    "https://chromedriver.storage.googleapis.com/index.html?path=2.38/ <br>\n",
    "I was surprised, how easy it was to automatically log into accounts as I managed to sign in to my own Facebook account within ten minutes after starting to program. As people with previous knowledge can assume, Selenium uses mainly the <b> CSS-class/tag/ID </b> or the so called <b> xPath </b> to locate the element on the web page, which can be determined using the inspector function in the web development section of your browser.\n",
    "As step one (logging into the registration system) was no problem anymore, the main problem in step two appeared to be the targeting of the respective web element, as we only wanted to select one course at a time and compare it to the predetermined course name. Unfortunately, the courses do not contain a unique CSS-class, -ID or -tag. Additionally, the selenium commands do not support iterating through the output properly. This was a problem, as no locating approach seemed to work properly. After doing a little research, I began testing the last remaining alternative - the xPath. The xPath is an either relative (dynamic) or absolut (static) path to each element of the page. Using the xPath, I was able to loop through the course entries and compare each entry porperly. If the comparison condition (located course name = predetmined course name) was correct, it means we have found the index of the respective course. This index can now be used to click on \"Registration\", a page containing all (unique) lectures of the respective subject. Using the same practice as in step 2 (loop through xPath, compare course numbers with predetermined course numbers, register if course number equals predetmined course number), step 3 was not a big deal anymore and was accomplished quite fast. As registration for open courses seemed to work, I started implementing features for real-world usage. As <i>critical</i> course registrations are closed until a certain moment and already completely full after few seconds of availability, the .refresh() method enables the programm to refresh the page, if the registration was not succesful, which is also the case if the course is still closed. Meaning the script keeps refreshing until the registration was succesful. <br>\n",
    "\n",
    "\n",
    "\n",
    "### Difficulties\n",
    "The most time consuming problem I had during this project was the fact that I did not manage to come up with an working approach for targeting the predetermined course and looping through the course list after logging into the registration system for multiple hours. Luckily the last alternative I had, finally worked (looping through the xPath).\n",
    "<br>\n",
    "\n",
    "### Result\n",
    "In the end, the program worked perfectly and already managed to succesfully safe me a place in a course I wanted to register for.\n",
    "\n",
    "### Further work\n",
    "As I had not many chances to check the real-world usage of the bot, errors due to edge cases will almost certainly occur over time, which need to be eradicated. Also the underlying .refresh() method may not be the best approach, as the bot may miss the right time to refresh (refreshs too early/too late). Determing a certain instant of time may be a better procedure. Time will tell.\n",
    "\n",
    "Thanks for reading. If you have any questions, suggestions or just want to talk about the procedure, reach out to me via GitHub or email.\n",
    "Feel free to clone, optimize and develop the program for <b> private use </b>.\n"
   ]
  },
  {
   "cell_type": "code",
   "execution_count": null,
   "metadata": {},
   "outputs": [],
   "source": [
    "# pip install selenium\n",
    "# download web driver: https://chromedriver.storage.googleapis.com/index.html?path=2.38/"
   ]
  },
  {
   "cell_type": "code",
   "execution_count": 2,
   "metadata": {},
   "outputs": [],
   "source": [
    "from selenium import webdriver"
   ]
  },
  {
   "cell_type": "code",
   "execution_count": 3,
   "metadata": {},
   "outputs": [],
   "source": [
    "class autoRegisterLPIS():\n",
    "    def __init__(self):\n",
    "        print(\"Please insert your Student-ID!\")\n",
    "        self.user = input()\n",
    "        print(\"Please insert your Password!\")\n",
    "        self.pw = input()\n",
    "        print(\"Please insert the name of the subject you want to register for! (located on subject overview)\")\n",
    "        self.reg_course = input()\n",
    "        print(\"Please insert the number of the course you want to register for!\")\n",
    "        self.reg_number = str(input())\n",
    "        self.url = \"https://lpis.wu.ac.at/lpis\"\n",
    "        print(\"Now you can use the .registerCourse() methode to start the registration process\")\n",
    "    \n",
    "    def registerCourse(self,):\n",
    "        # Define Chrome Driver\n",
    "        chrome = webdriver.Chrome(\"C:/Users/thoma/Downloads/chromedriver_win32/chromedriver.exe\")\n",
    "        # Driver opens url (Facebook in this case)\n",
    "        chrome.get(self.url)\n",
    "        # Identify Username field\n",
    "        chrome.find_element_by_xpath(\"/html/body/form/table/tbody/tr[1]/td[2]/input\").send_keys(self.user)\n",
    "        # Identify Password field\n",
    "        chrome.find_element_by_xpath(\"/html/body/form/table/tbody/tr[2]/td[2]/input\").send_keys(self.pw)\n",
    "        # Identify Login button and click it\n",
    "        chrome.find_element_by_xpath(\"//input[@value='Login']\").click()\n",
    "        \n",
    "        # Find URL of selected course_name\n",
    "        for i in range(1,100):\n",
    "            try:\n",
    "                guess = chrome.find_element_by_xpath('/html/body/table[2]/tbody/tr[' + str(i) + ']/td[1]/span[2]').text\n",
    "                if guess == self.reg_course:\n",
    "                    try:\n",
    "                        chrome.find_element_by_xpath('/html/body/table[2]/tbody/tr[' + str(i) + ']/td[1]/span[3]').click()\n",
    "                    except:\n",
    "                        chrome.find_element_by_xpath('/html/body/table[2]/tbody/tr[' + str(i+1) + ']/td[1]/span[3]').click()\n",
    "            except:\n",
    "                pass\n",
    "        \n",
    "        # Find the selected course (unique course number) and click to register.\n",
    "        # If the course is not open yet, refresh constantly and try to register\n",
    "        x = True\n",
    "        while x == True:\n",
    "            for i in range(1,100):\n",
    "                try:\n",
    "                    guess = chrome.find_element_by_xpath('/html/body/table[2]/tbody/tr[' + str(i) + ']/td[1]/a').text\n",
    "                    if guess == self.reg_number:\n",
    "                        try:\n",
    "                            chrome.find_element_by_xpath('/html/body/table[2]/tbody/tr[' + str(i) + ']/td[5]/form/input[13]').click()\n",
    "                        except:\n",
    "                            chrome.refresh()\n",
    "                except:\n",
    "                    pass\n"
   ]
  },
  {
   "cell_type": "code",
   "execution_count": 4,
   "metadata": {},
   "outputs": [
    {
     "name": "stdout",
     "output_type": "stream",
     "text": [
      "Please insert your Student-ID!\n",
      "h1111111\n",
      "Please insert your Password!\n",
      "Password\n",
      "Please insert the name of the subject you want to register for! (located on subject overview)\n",
      "Course_name\n",
      "Please insert the number of the course you want to register for!\n",
      "Course_number\n",
      "Now you can use the .registerCourse() methode to start the registration process\n"
     ]
    }
   ],
   "source": [
    "user1 = autoRegisterLPIS()"
   ]
  },
  {
   "cell_type": "code",
   "execution_count": null,
   "metadata": {},
   "outputs": [],
   "source": [
    "user1.registerCourse()"
   ]
  }
 ],
 "metadata": {
  "kernelspec": {
   "display_name": "Python 3",
   "language": "python",
   "name": "python3"
  },
  "language_info": {
   "codemirror_mode": {
    "name": "ipython",
    "version": 3
   },
   "file_extension": ".py",
   "mimetype": "text/x-python",
   "name": "python",
   "nbconvert_exporter": "python",
   "pygments_lexer": "ipython3",
   "version": "3.7.4"
  }
 },
 "nbformat": 4,
 "nbformat_minor": 2
}
