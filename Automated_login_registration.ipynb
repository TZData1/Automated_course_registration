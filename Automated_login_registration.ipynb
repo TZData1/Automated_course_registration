{
 "cells": [
  {
   "cell_type": "code",
   "execution_count": 1,
   "metadata": {},
   "outputs": [],
   "source": [
    "from selenium import webdriver"
   ]
  },
  {
   "cell_type": "code",
   "execution_count": 2,
   "metadata": {},
   "outputs": [],
   "source": [
    "class autoRegiserLPIS():\n",
    "    def __init__(self):\n",
    "        print(\"Please insert your Student-ID!\")\n",
    "        self.user = input()\n",
    "        print(\"Please insert your Password!\")\n",
    "        self.pw = input()\n",
    "        print(\"Please insert the name of the subject you want to register for! (located on subject overview)\")\n",
    "        self.reg_course = input()\n",
    "        print(\"Please insert the number of the course you want to register for!\")\n",
    "        self.reg_number = str(input())\n",
    "        self.url = \"https://lpis.wu.ac.at/lpis\"\n",
    "        print(\"Now you can use the .registerCourse() methode to start the registration process\")\n",
    "    \n",
    "    def registerCourse(self,):\n",
    "        # Define Chrome Driver\n",
    "        chrome = webdriver.Chrome(\"C:/Users/thoma/Downloads/chromedriver_win32/chromedriver.exe\")\n",
    "        # Driver opens url (Facebook in this case)\n",
    "        chrome.get(self.url)\n",
    "        # Identify Username field\n",
    "        chrome.find_element_by_xpath(\"/html/body/form/table/tbody/tr[1]/td[2]/input\").send_keys(self.user)\n",
    "        # Identify Password field\n",
    "        chrome.find_element_by_xpath(\"/html/body/form/table/tbody/tr[2]/td[2]/input\").send_keys(self.pw)\n",
    "        # Identify Login button and click it\n",
    "        chrome.find_element_by_xpath(\"//input[@value='Login']\").click()\n",
    "        \n",
    "        # Find URL of selected course_name\n",
    "        for i in range(1,100):\n",
    "            try:\n",
    "                guess = chrome.find_element_by_xpath('/html/body/table[2]/tbody/tr[' + str(i) + ']/td[1]/span[2]').text\n",
    "                if guess == self.reg_course:\n",
    "                    try:\n",
    "                        chrome.find_element_by_xpath('/html/body/table[2]/tbody/tr[' + str(i) + ']/td[1]/span[3]').click()\n",
    "                    except:\n",
    "                        chrome.find_element_by_xpath('/html/body/table[2]/tbody/tr[' + str(i+1) + ']/td[1]/span[3]').click()\n",
    "            except:\n",
    "                pass\n",
    "        \n",
    "        x = True\n",
    "        while x == True:\n",
    "            for i in range(1,60):\n",
    "                try:\n",
    "                    guess = chrome.find_element_by_xpath('/html/body/table[2]/tbody/tr[' + str(i) + ']/td[1]/a').text\n",
    "                    if guess == self.reg_number:\n",
    "                        try:\n",
    "                            chrome.find_element_by_xpath('/html/body/table[2]/tbody/tr[' + str(i) + ']/td[5]/form/input[13]').click()\n",
    "                        except:\n",
    "                            chrome.refresh()\n",
    "                except:\n",
    "                    pass\n"
   ]
  },
  {
   "cell_type": "code",
   "execution_count": 3,
   "metadata": {},
   "outputs": [
    {
     "name": "stdout",
     "output_type": "stream",
     "text": [
      "Please insert your Student-ID!\n",
      "h11739403\n",
      "Please insert your Password!\n",
      "Monsterpower98!\n",
      "Please insert the name of the subject you want to register for! (located on subject overview)\n",
      "Grundlagen wissenschaftlichen Arbeitens\n",
      "Please insert the number of the course you want to register for!\n",
      "4657\n",
      "Now you can use the .registerCourse() methode to start the registration process\n"
     ]
    }
   ],
   "source": [
    "user1 = autoRegiserLPIS()"
   ]
  },
  {
   "cell_type": "code",
   "execution_count": null,
   "metadata": {},
   "outputs": [],
   "source": [
    "user1.registerCourse()"
   ]
  },
  {
   "cell_type": "code",
   "execution_count": null,
   "metadata": {},
   "outputs": [],
   "source": []
  }
 ],
 "metadata": {
  "kernelspec": {
   "display_name": "Python 3",
   "language": "python",
   "name": "python3"
  },
  "language_info": {
   "codemirror_mode": {
    "name": "ipython",
    "version": 3
   },
   "file_extension": ".py",
   "mimetype": "text/x-python",
   "name": "python",
   "nbconvert_exporter": "python",
   "pygments_lexer": "ipython3",
   "version": "3.7.4"
  }
 },
 "nbformat": 4,
 "nbformat_minor": 2
}
